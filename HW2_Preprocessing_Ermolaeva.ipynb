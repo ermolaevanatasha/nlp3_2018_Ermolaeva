{
 "cells": [
  {
   "cell_type": "markdown",
   "metadata": {},
   "source": [
    "### Задача:\n",
    "**Даны:** твиты на русском языке с присписанной им тональностью (позитивная или негативная оценка содержится в твите)\n",
    "\n",
    "**Нужно:** построить классификатор, распознающий тональность твита"
   ]
  },
  {
   "cell_type": "markdown",
   "metadata": {},
   "source": [
    "#### Previous results\n",
    "##### CountVectorizer + LogisticRegression"
   ]
  },
  {
   "cell_type": "markdown",
   "metadata": {},
   "source": [
    "                  precision    recall  f1-score   support\n",
    "\n",
    "             -1       0.69      0.59      0.64       902\n",
    "              0       0.61      0.80      0.69       972\n",
    "              1       0.30      0.03      0.06       180\n",
    "\n",
    "    avg / total       0.62      0.64      0.61      2054\n",
    "\n",
    "    Макросредняя F1 мера -  0.463064212113\n",
    "    Микросредняя F1 мера -  0.638753651412"
   ]
  },
  {
   "cell_type": "markdown",
   "metadata": {},
   "source": [
    "##### TfidfVectorizer + LogisticRegression"
   ]
  },
  {
   "cell_type": "markdown",
   "metadata": {},
   "source": [
    "                  precision    recall  f1-score   support\n",
    "\n",
    "             -1       0.70      0.69      0.69       902\n",
    "              0       0.66      0.76      0.71       972\n",
    "              1       0.37      0.09      0.15       180\n",
    "\n",
    "    avg / total       0.65      0.67      0.65      2054\n",
    "\n",
    "    Макросредняя F1 мера -  0.517595517851\n",
    "    Микросредняя F1 мера -  0.671372930867"
   ]
  },
  {
   "cell_type": "code",
   "execution_count": 1,
   "metadata": {
    "collapsed": true
   },
   "outputs": [],
   "source": [
    "import string\n",
    "import nltk\n",
    "from nltk.tokenize import word_tokenize, wordpunct_tokenize\n",
    "from pymorphy2 import MorphAnalyzer\n",
    "from pymystem3 import Mystem\n",
    "from nltk.corpus import stopwords\n",
    "from string import punctuation\n",
    "import re\n",
    "morph = MorphAnalyzer()"
   ]
  },
  {
   "cell_type": "code",
   "execution_count": 2,
   "metadata": {
    "collapsed": true
   },
   "outputs": [],
   "source": [
    "import nltk"
   ]
  },
  {
   "cell_type": "code",
   "execution_count": 3,
   "metadata": {
    "collapsed": true
   },
   "outputs": [],
   "source": [
    "import warnings\n",
    "warnings.filterwarnings('ignore')"
   ]
  },
  {
   "cell_type": "code",
   "execution_count": 4,
   "metadata": {
    "collapsed": true
   },
   "outputs": [],
   "source": [
    "with open('stopwords.txt', 'r', encoding='utf-8') as f:\n",
    "    f = f.readlines()\n",
    "    f[0] = f[0].strip('\\ufeff')\n",
    "    stop_words = []\n",
    "    for i in f:\n",
    "        stop_words.append(i.strip())"
   ]
  },
  {
   "cell_type": "code",
   "execution_count": 5,
   "metadata": {
    "collapsed": true
   },
   "outputs": [],
   "source": [
    "import pandas as pd\n",
    "import numpy as np\n",
    "from sklearn.feature_extraction.text import TfidfVectorizer, CountVectorizer\n",
    "from sklearn.linear_model import LogisticRegression\n",
    "from sklearn.metrics import precision_score, recall_score, f1_score, confusion_matrix, classification_report"
   ]
  },
  {
   "cell_type": "code",
   "execution_count": 6,
   "metadata": {
    "collapsed": true
   },
   "outputs": [],
   "source": [
    "train_data = pd.read_csv('data/sentiment_twitter/train_sentiment_ttk.tsv', sep='\\t')\n",
    "test_data = pd.read_csv('data/sentiment_twitter/test_sentiment_ttk.tsv', sep='\\t')"
   ]
  },
  {
   "cell_type": "code",
   "execution_count": 7,
   "metadata": {},
   "outputs": [
    {
     "data": {
      "text/html": [
       "<div>\n",
       "<style>\n",
       "    .dataframe thead tr:only-child th {\n",
       "        text-align: right;\n",
       "    }\n",
       "\n",
       "    .dataframe thead th {\n",
       "        text-align: left;\n",
       "    }\n",
       "\n",
       "    .dataframe tbody tr th {\n",
       "        vertical-align: top;\n",
       "    }\n",
       "</style>\n",
       "<table border=\"1\" class=\"dataframe\">\n",
       "  <thead>\n",
       "    <tr style=\"text-align: right;\">\n",
       "      <th></th>\n",
       "      <th>label</th>\n",
       "      <th>text</th>\n",
       "    </tr>\n",
       "  </thead>\n",
       "  <tbody>\n",
       "    <tr>\n",
       "      <th>0</th>\n",
       "      <td>0</td>\n",
       "      <td>@mkomov Максим, Вашем письмо мы получили. Наши...</td>\n",
       "    </tr>\n",
       "    <tr>\n",
       "      <th>1</th>\n",
       "      <td>0</td>\n",
       "      <td>«Мегафон» стал владельцем 50% акций «Евросети»</td>\n",
       "    </tr>\n",
       "    <tr>\n",
       "      <th>2</th>\n",
       "      <td>-1</td>\n",
       "      <td>RT @fuckkiev: “@EvaKobb: МТС Россия прислала ж...</td>\n",
       "    </tr>\n",
       "    <tr>\n",
       "      <th>3</th>\n",
       "      <td>1</td>\n",
       "      <td>ВИДЕО: http://t.co/PSMLAhR4fI Реклама со смехо...</td>\n",
       "    </tr>\n",
       "    <tr>\n",
       "      <th>4</th>\n",
       "      <td>-1</td>\n",
       "      <td>@parfenov1960 потому что МТС достало, а пчел н...</td>\n",
       "    </tr>\n",
       "    <tr>\n",
       "      <th>5</th>\n",
       "      <td>-1</td>\n",
       "      <td>RT @f_u_c_k_y_o_u_: Билайн интернет стал полны...</td>\n",
       "    </tr>\n",
       "    <tr>\n",
       "      <th>6</th>\n",
       "      <td>0</td>\n",
       "      <td>На Дне города в Тюмени «МегаФон» разыграет сма...</td>\n",
       "    </tr>\n",
       "    <tr>\n",
       "      <th>7</th>\n",
       "      <td>0</td>\n",
       "      <td>&amp;amp;laquo;Ростелеком&amp;amp;raquo; стал партнеро...</td>\n",
       "    </tr>\n",
       "    <tr>\n",
       "      <th>8</th>\n",
       "      <td>0</td>\n",
       "      <td>RT @parfenov1960: Сотовый оператор Мегафон про...</td>\n",
       "    </tr>\n",
       "    <tr>\n",
       "      <th>9</th>\n",
       "      <td>1</td>\n",
       "      <td>«МегаФон» поможет контролировать расходы на Ин...</td>\n",
       "    </tr>\n",
       "  </tbody>\n",
       "</table>\n",
       "</div>"
      ],
      "text/plain": [
       "   label                                               text\n",
       "0      0  @mkomov Максим, Вашем письмо мы получили. Наши...\n",
       "1      0     «Мегафон» стал владельцем 50% акций «Евросети»\n",
       "2     -1  RT @fuckkiev: “@EvaKobb: МТС Россия прислала ж...\n",
       "3      1  ВИДЕО: http://t.co/PSMLAhR4fI Реклама со смехо...\n",
       "4     -1  @parfenov1960 потому что МТС достало, а пчел н...\n",
       "5     -1  RT @f_u_c_k_y_o_u_: Билайн интернет стал полны...\n",
       "6      0  На Дне города в Тюмени «МегаФон» разыграет сма...\n",
       "7      0  &amp;laquo;Ростелеком&amp;raquo; стал партнеро...\n",
       "8      0  RT @parfenov1960: Сотовый оператор Мегафон про...\n",
       "9      1  «МегаФон» поможет контролировать расходы на Ин..."
      ]
     },
     "execution_count": 7,
     "metadata": {},
     "output_type": "execute_result"
    }
   ],
   "source": [
    "train_data.head(10)"
   ]
  },
  {
   "cell_type": "code",
   "execution_count": 8,
   "metadata": {},
   "outputs": [
    {
     "data": {
      "text/html": [
       "<div>\n",
       "<style>\n",
       "    .dataframe thead tr:only-child th {\n",
       "        text-align: right;\n",
       "    }\n",
       "\n",
       "    .dataframe thead th {\n",
       "        text-align: left;\n",
       "    }\n",
       "\n",
       "    .dataframe tbody tr th {\n",
       "        vertical-align: top;\n",
       "    }\n",
       "</style>\n",
       "<table border=\"1\" class=\"dataframe\">\n",
       "  <thead>\n",
       "    <tr style=\"text-align: right;\">\n",
       "      <th></th>\n",
       "      <th>label</th>\n",
       "      <th>text</th>\n",
       "    </tr>\n",
       "  </thead>\n",
       "  <tbody>\n",
       "    <tr>\n",
       "      <th>0</th>\n",
       "      <td>-1</td>\n",
       "      <td>RT vzglyad: По делу о работе МТС в Узбекистане...</td>\n",
       "    </tr>\n",
       "    <tr>\n",
       "      <th>1</th>\n",
       "      <td>0</td>\n",
       "      <td>RT @kevinuyatukox: http://t.co/ljtrjq91v3 #Кре...</td>\n",
       "    </tr>\n",
       "    <tr>\n",
       "      <th>2</th>\n",
       "      <td>0</td>\n",
       "      <td>#Оформить кредитную карту в банке мтс http://t...</td>\n",
       "    </tr>\n",
       "    <tr>\n",
       "      <th>3</th>\n",
       "      <td>0</td>\n",
       "      <td>#Как перевести деньги с билайна на кредитную к...</td>\n",
       "    </tr>\n",
       "    <tr>\n",
       "      <th>4</th>\n",
       "      <td>0</td>\n",
       "      <td>#Начальник отдела кредитного контроля оао мтс ...</td>\n",
       "    </tr>\n",
       "    <tr>\n",
       "      <th>5</th>\n",
       "      <td>-1</td>\n",
       "      <td>На МТС завели дело за обман абонентов в Крыму ...</td>\n",
       "    </tr>\n",
       "    <tr>\n",
       "      <th>6</th>\n",
       "      <td>-1</td>\n",
       "      <td>ФАС возбудила дело на МТС за ложь в рекламе\\nh...</td>\n",
       "    </tr>\n",
       "    <tr>\n",
       "      <th>7</th>\n",
       "      <td>0</td>\n",
       "      <td>RT @kennethenozacuk: http://t.co/ds5kOamzx6 #М...</td>\n",
       "    </tr>\n",
       "    <tr>\n",
       "      <th>8</th>\n",
       "      <td>-1</td>\n",
       "      <td>RT @vishtorskayaa: Отказано в доступе при уста...</td>\n",
       "    </tr>\n",
       "    <tr>\n",
       "      <th>9</th>\n",
       "      <td>0</td>\n",
       "      <td>RT @Serg_58: Tele2 хочет продавать смартфоны п...</td>\n",
       "    </tr>\n",
       "  </tbody>\n",
       "</table>\n",
       "</div>"
      ],
      "text/plain": [
       "   label                                               text\n",
       "0     -1  RT vzglyad: По делу о работе МТС в Узбекистане...\n",
       "1      0  RT @kevinuyatukox: http://t.co/ljtrjq91v3 #Кре...\n",
       "2      0  #Оформить кредитную карту в банке мтс http://t...\n",
       "3      0  #Как перевести деньги с билайна на кредитную к...\n",
       "4      0  #Начальник отдела кредитного контроля оао мтс ...\n",
       "5     -1  На МТС завели дело за обман абонентов в Крыму ...\n",
       "6     -1  ФАС возбудила дело на МТС за ложь в рекламе\\nh...\n",
       "7      0  RT @kennethenozacuk: http://t.co/ds5kOamzx6 #М...\n",
       "8     -1  RT @vishtorskayaa: Отказано в доступе при уста...\n",
       "9      0  RT @Serg_58: Tele2 хочет продавать смартфоны п..."
      ]
     },
     "execution_count": 8,
     "metadata": {},
     "output_type": "execute_result"
    }
   ],
   "source": [
    "test_data.head(10)"
   ]
  },
  {
   "cell_type": "markdown",
   "metadata": {},
   "source": [
    "### Улучшение качества классификации"
   ]
  },
  {
   "cell_type": "markdown",
   "metadata": {},
   "source": [
    "Очистка данных"
   ]
  },
  {
   "cell_type": "code",
   "execution_count": 9,
   "metadata": {
    "collapsed": true
   },
   "outputs": [],
   "source": [
    "def clean_data(text):\n",
    "    text = re.sub('http[^ ]*?($| |,)', '', text)\n",
    "    text = re.sub('@', '', text)\n",
    "    text = re.sub('[A-Za-z0-9]+', '', text)\n",
    "    text = re.sub(r'[^\\w\\s]', '', text)\n",
    "\n",
    "    return text"
   ]
  },
  {
   "cell_type": "markdown",
   "metadata": {},
   "source": [
    "Очистка данных и учёт списка стоп-слов дает более низкий результат:\n",
    "##### Результат с очисткой данных + гиперпараметры:"
   ]
  },
  {
   "cell_type": "code",
   "execution_count": 33,
   "metadata": {},
   "outputs": [
    {
     "name": "stdout",
     "output_type": "stream",
     "text": [
      "             precision    recall  f1-score   support\n",
      "\n",
      "         -1       0.72      0.71      0.72       902\n",
      "          0       0.69      0.76      0.72       972\n",
      "          1       0.50      0.28      0.36       180\n",
      "\n",
      "avg / total       0.69      0.70      0.69      2054\n",
      "\n",
      "Макросредняя F1 мера -  0.600668936986\n",
      "Микросредняя F1 мера -  0.695715676728\n"
     ]
    }
   ],
   "source": [
    "print(classification_report(y_test, y_pred))\n",
    "print('Макросредняя F1 мера - ', f1_score(y_test, y_pred, average='macro'))\n",
    "print('Микросредняя F1 мера - ', f1_score(y_test, y_pred, average='micro'))"
   ]
  },
  {
   "cell_type": "markdown",
   "metadata": {},
   "source": [
    "##### Результат с учётом стоп-слов + гиперпараметры:"
   ]
  },
  {
   "cell_type": "code",
   "execution_count": 43,
   "metadata": {},
   "outputs": [
    {
     "name": "stdout",
     "output_type": "stream",
     "text": [
      "             precision    recall  f1-score   support\n",
      "\n",
      "         -1       0.75      0.63      0.68       902\n",
      "          0       0.65      0.80      0.72       972\n",
      "          1       0.44      0.28      0.34       180\n",
      "\n",
      "avg / total       0.68      0.68      0.67      2054\n",
      "\n",
      "Макросредняя F1 мера -  0.580613304041\n",
      "Микросредняя F1 мера -  0.675754625122\n"
     ]
    }
   ],
   "source": [
    "print(classification_report(y_test, y_pred))\n",
    "print('Макросредняя F1 мера - ', f1_score(y_test, y_pred, average='macro'))\n",
    "print('Микросредняя F1 мера - ', f1_score(y_test, y_pred, average='micro'))"
   ]
  },
  {
   "cell_type": "markdown",
   "metadata": {},
   "source": [
    "##### Результат с очисткой данных и учётом стоп-слов + гиперпараметры:"
   ]
  },
  {
   "cell_type": "code",
   "execution_count": 53,
   "metadata": {},
   "outputs": [
    {
     "name": "stdout",
     "output_type": "stream",
     "text": [
      "             precision    recall  f1-score   support\n",
      "\n",
      "         -1       0.73      0.61      0.66       902\n",
      "          0       0.65      0.78      0.71       972\n",
      "          1       0.46      0.32      0.38       180\n",
      "\n",
      "avg / total       0.67      0.67      0.66      2054\n",
      "\n",
      "Макросредняя F1 мера -  0.583832099676\n",
      "Микросредняя F1 мера -  0.666017526777\n"
     ]
    }
   ],
   "source": [
    "print(classification_report(y_test, y_pred))\n",
    "print('Макросредняя F1 мера - ', f1_score(y_test, y_pred, average='macro'))\n",
    "print('Микросредняя F1 мера - ', f1_score(y_test, y_pred, average='micro'))"
   ]
  },
  {
   "cell_type": "code",
   "execution_count": 54,
   "metadata": {
    "collapsed": true
   },
   "outputs": [],
   "source": [
    "def normalize(text):\n",
    "    \"\"\"\n",
    "    функция нормализации\n",
    "    \n",
    "    ::парметры::\n",
    "    @text - ненормализованный текст (string)\n",
    "    \n",
    "    ::returns::\n",
    "    нормализованный текст (string)\n",
    "    \"\"\"\n",
    "#     text = clean_data(text)\n",
    "\n",
    "    tokens = word_tokenize(text)\n",
    "    lemmas = [morph.parse(token)[0].normal_form for token in tokens]\n",
    "    \n",
    "#     analized = [morph.parse(token)[0].normal_form for token in tokens]\n",
    "#     lemmas = [lemma for lemma in analized\n",
    "#               if lemma not in stop_words]\n",
    "    \n",
    "    return ' '.join(lemmas)"
   ]
  },
  {
   "cell_type": "code",
   "execution_count": 55,
   "metadata": {
    "collapsed": true
   },
   "outputs": [],
   "source": [
    "train_data['normalized'] = train_data['text'].apply(normalize)\n",
    "test_data['normalized'] = test_data['text'].apply(normalize)"
   ]
  },
  {
   "cell_type": "code",
   "execution_count": 56,
   "metadata": {
    "collapsed": true
   },
   "outputs": [],
   "source": [
    "tfidf = TfidfVectorizer()\n",
    "tfidf.fit(train_data['normalized'].values)\n",
    "\n",
    "X_train = tfidf.transform(train_data['normalized'].values)\n",
    "X_test = tfidf.transform(test_data['normalized'].values)\n",
    "\n",
    "y_train = train_data['label'].values\n",
    "y_test = test_data['label'].values"
   ]
  },
  {
   "cell_type": "markdown",
   "metadata": {},
   "source": [
    "Воспользуемся перебором гиперпараметров по сетке:"
   ]
  },
  {
   "cell_type": "markdown",
   "metadata": {},
   "source": [
    "##### До перебора:"
   ]
  },
  {
   "cell_type": "code",
   "execution_count": 57,
   "metadata": {
    "collapsed": true
   },
   "outputs": [],
   "source": [
    "clf = LogisticRegression()\n",
    "clf.fit(X_train, y_train)\n",
    "y_pred = clf.predict(X_test)"
   ]
  },
  {
   "cell_type": "code",
   "execution_count": 58,
   "metadata": {},
   "outputs": [
    {
     "name": "stdout",
     "output_type": "stream",
     "text": [
      "             precision    recall  f1-score   support\n",
      "\n",
      "         -1       0.70      0.71      0.71       902\n",
      "          0       0.67      0.76      0.72       972\n",
      "          1       0.58      0.12      0.20       180\n",
      "\n",
      "avg / total       0.68      0.68      0.67      2054\n",
      "\n",
      "Макросредняя F1 мера -  0.541085803258\n",
      "Микросредняя F1 мера -  0.684031158715\n"
     ]
    }
   ],
   "source": [
    "print(classification_report(y_test, y_pred))\n",
    "print('Макросредняя F1 мера - ', f1_score(y_test, y_pred, average='macro'))\n",
    "print('Микросредняя F1 мера - ', f1_score(y_test, y_pred, average='micro'))"
   ]
  },
  {
   "cell_type": "markdown",
   "metadata": {},
   "source": [
    "Перебор гиперпараметров по сетке:"
   ]
  },
  {
   "cell_type": "code",
   "execution_count": 59,
   "metadata": {
    "collapsed": true
   },
   "outputs": [],
   "source": [
    "from sklearn.model_selection import GridSearchCV"
   ]
  },
  {
   "cell_type": "code",
   "execution_count": 60,
   "metadata": {
    "collapsed": true
   },
   "outputs": [],
   "source": [
    "params = {'C': [0.01, 0.1, 1, 10, 100], 'penalty': ['l1', 'l2']}"
   ]
  },
  {
   "cell_type": "code",
   "execution_count": 61,
   "metadata": {
    "collapsed": true
   },
   "outputs": [],
   "source": [
    "def get_fitted_searcher(X_train, y_train):\n",
    "    searcher = GridSearchCV(LogisticRegression(), params)\n",
    "    searcher.fit(X_train, y_train)\n",
    "    return searcher"
   ]
  },
  {
   "cell_type": "code",
   "execution_count": 62,
   "metadata": {
    "collapsed": true
   },
   "outputs": [],
   "source": [
    "searcher = get_fitted_searcher(X_train, y_train)"
   ]
  },
  {
   "cell_type": "code",
   "execution_count": 63,
   "metadata": {},
   "outputs": [
    {
     "data": {
      "text/plain": [
       "{'C': 10, 'penalty': 'l2'}"
      ]
     },
     "execution_count": 63,
     "metadata": {},
     "output_type": "execute_result"
    }
   ],
   "source": [
    "searcher.best_params_"
   ]
  },
  {
   "cell_type": "code",
   "execution_count": 64,
   "metadata": {
    "collapsed": true
   },
   "outputs": [],
   "source": [
    "clf = LogisticRegression(C=10, penalty='l2')\n",
    "clf.fit(X_train, y_train)\n",
    "y_pred = clf.predict(X_test)"
   ]
  },
  {
   "cell_type": "markdown",
   "metadata": {},
   "source": [
    "##### TfidfVectorizer + LogisticRegression(C=10, penalty='l2')"
   ]
  },
  {
   "cell_type": "code",
   "execution_count": 65,
   "metadata": {},
   "outputs": [
    {
     "name": "stdout",
     "output_type": "stream",
     "text": [
      "             precision    recall  f1-score   support\n",
      "\n",
      "         -1       0.72      0.74      0.73       902\n",
      "          0       0.70      0.75      0.73       972\n",
      "          1       0.51      0.27      0.35       180\n",
      "\n",
      "avg / total       0.70      0.70      0.70      2054\n",
      "\n",
      "Макросредняя F1 мера -  0.603415121571\n",
      "Микросредняя F1 мера -  0.704479065239\n"
     ]
    }
   ],
   "source": [
    "print(classification_report(y_test, y_pred))\n",
    "print('Макросредняя F1 мера - ', f1_score(y_test, y_pred, average='macro'))\n",
    "print('Микросредняя F1 мера - ', f1_score(y_test, y_pred, average='micro'))"
   ]
  },
  {
   "cell_type": "code",
   "execution_count": 20,
   "metadata": {
    "collapsed": true
   },
   "outputs": [],
   "source": [
    "def print_important(vectorizer, clf, topn=10):\n",
    "    features = vectorizer.get_feature_names()\n",
    "    classes = clf.classes_\n",
    "    importances = clf.coef_\n",
    "    for i, cls in enumerate(classes):\n",
    "        print('Значимые слова для класса - ', cls)\n",
    "        important_words = sorted(list(zip(features, importances[i])), key=lambda x: abs(x[1]), reverse=True)[:topn]\n",
    "        print([word for word,_ in important_words])\n",
    "        print()"
   ]
  },
  {
   "cell_type": "code",
   "execution_count": 21,
   "metadata": {},
   "outputs": [
    {
     "name": "stdout",
     "output_type": "stream",
     "text": [
      "Значимые слова для класса -  -1\n",
      "['оштрафовать', 'говно', 'tele2', 'не', 'сбой', 'восстановление', 'гавный', 'заблокировать', 'прекратить', 'повысить']\n",
      "\n",
      "Значимые слова для класса -  0\n",
      "['восстановление', 'доллар', 'иа', 'гавный', 'оштрафовать', 'говно', 'ловить', 'даже', 'любить', 'beeline_rus']\n",
      "\n",
      "Значимые слова для класса -  1\n",
      "['любить', 'спасибо', 'защита', 'узбекистан', 'радовать', 'бесплатный', 'beeline_rus', 'благодарить', 'подарок', 'приятно']\n",
      "\n"
     ]
    }
   ],
   "source": [
    "print_important(tfidf, clf, topn=10)"
   ]
  }
 ],
 "metadata": {
  "kernelspec": {
   "display_name": "Python 3",
   "language": "python",
   "name": "python3"
  },
  "language_info": {
   "codemirror_mode": {
    "name": "ipython",
    "version": 3
   },
   "file_extension": ".py",
   "mimetype": "text/x-python",
   "name": "python",
   "nbconvert_exporter": "python",
   "pygments_lexer": "ipython3",
   "version": "3.6.3"
  }
 },
 "nbformat": 4,
 "nbformat_minor": 2
}
